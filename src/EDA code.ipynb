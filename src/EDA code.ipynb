{
 "cells": [
  {
   "cell_type": "code",
   "execution_count": 1,
   "id": "aae7e476",
   "metadata": {},
   "outputs": [],
   "source": [
    "import pandas as pd\n",
    "import numpy as np"
   ]
  },
  {
   "cell_type": "code",
   "execution_count": 2,
   "id": "3b759f73",
   "metadata": {},
   "outputs": [
    {
     "data": {
      "text/html": [
       "<div>\n",
       "<style scoped>\n",
       "    .dataframe tbody tr th:only-of-type {\n",
       "        vertical-align: middle;\n",
       "    }\n",
       "\n",
       "    .dataframe tbody tr th {\n",
       "        vertical-align: top;\n",
       "    }\n",
       "\n",
       "    .dataframe thead th {\n",
       "        text-align: right;\n",
       "    }\n",
       "</style>\n",
       "<table border=\"1\" class=\"dataframe\">\n",
       "  <thead>\n",
       "    <tr style=\"text-align: right;\">\n",
       "      <th></th>\n",
       "      <th>Unnamed: 0</th>\n",
       "      <th>X1</th>\n",
       "      <th>X2</th>\n",
       "      <th>X3</th>\n",
       "      <th>X4</th>\n",
       "      <th>X5</th>\n",
       "      <th>X6</th>\n",
       "      <th>X7</th>\n",
       "      <th>X8</th>\n",
       "      <th>X9</th>\n",
       "      <th>...</th>\n",
       "      <th>X15</th>\n",
       "      <th>X16</th>\n",
       "      <th>X17</th>\n",
       "      <th>X18</th>\n",
       "      <th>X19</th>\n",
       "      <th>X20</th>\n",
       "      <th>X21</th>\n",
       "      <th>X22</th>\n",
       "      <th>X23</th>\n",
       "      <th>Y</th>\n",
       "    </tr>\n",
       "  </thead>\n",
       "  <tbody>\n",
       "    <tr>\n",
       "      <th>0</th>\n",
       "      <td>ID</td>\n",
       "      <td>LIMIT_BAL</td>\n",
       "      <td>SEX</td>\n",
       "      <td>EDUCATION</td>\n",
       "      <td>MARRIAGE</td>\n",
       "      <td>AGE</td>\n",
       "      <td>PAY_0</td>\n",
       "      <td>PAY_2</td>\n",
       "      <td>PAY_3</td>\n",
       "      <td>PAY_4</td>\n",
       "      <td>...</td>\n",
       "      <td>BILL_AMT4</td>\n",
       "      <td>BILL_AMT5</td>\n",
       "      <td>BILL_AMT6</td>\n",
       "      <td>PAY_AMT1</td>\n",
       "      <td>PAY_AMT2</td>\n",
       "      <td>PAY_AMT3</td>\n",
       "      <td>PAY_AMT4</td>\n",
       "      <td>PAY_AMT5</td>\n",
       "      <td>PAY_AMT6</td>\n",
       "      <td>default payment next month</td>\n",
       "    </tr>\n",
       "    <tr>\n",
       "      <th>1</th>\n",
       "      <td>1</td>\n",
       "      <td>20000</td>\n",
       "      <td>2</td>\n",
       "      <td>2</td>\n",
       "      <td>1</td>\n",
       "      <td>24</td>\n",
       "      <td>2</td>\n",
       "      <td>2</td>\n",
       "      <td>-1</td>\n",
       "      <td>-1</td>\n",
       "      <td>...</td>\n",
       "      <td>0</td>\n",
       "      <td>0</td>\n",
       "      <td>0</td>\n",
       "      <td>0</td>\n",
       "      <td>689</td>\n",
       "      <td>0</td>\n",
       "      <td>0</td>\n",
       "      <td>0</td>\n",
       "      <td>0</td>\n",
       "      <td>1</td>\n",
       "    </tr>\n",
       "    <tr>\n",
       "      <th>2</th>\n",
       "      <td>2</td>\n",
       "      <td>120000</td>\n",
       "      <td>2</td>\n",
       "      <td>2</td>\n",
       "      <td>2</td>\n",
       "      <td>26</td>\n",
       "      <td>-1</td>\n",
       "      <td>2</td>\n",
       "      <td>0</td>\n",
       "      <td>0</td>\n",
       "      <td>...</td>\n",
       "      <td>3272</td>\n",
       "      <td>3455</td>\n",
       "      <td>3261</td>\n",
       "      <td>0</td>\n",
       "      <td>1000</td>\n",
       "      <td>1000</td>\n",
       "      <td>1000</td>\n",
       "      <td>0</td>\n",
       "      <td>2000</td>\n",
       "      <td>1</td>\n",
       "    </tr>\n",
       "    <tr>\n",
       "      <th>3</th>\n",
       "      <td>3</td>\n",
       "      <td>90000</td>\n",
       "      <td>2</td>\n",
       "      <td>2</td>\n",
       "      <td>2</td>\n",
       "      <td>34</td>\n",
       "      <td>0</td>\n",
       "      <td>0</td>\n",
       "      <td>0</td>\n",
       "      <td>0</td>\n",
       "      <td>...</td>\n",
       "      <td>14331</td>\n",
       "      <td>14948</td>\n",
       "      <td>15549</td>\n",
       "      <td>1518</td>\n",
       "      <td>1500</td>\n",
       "      <td>1000</td>\n",
       "      <td>1000</td>\n",
       "      <td>1000</td>\n",
       "      <td>5000</td>\n",
       "      <td>0</td>\n",
       "    </tr>\n",
       "    <tr>\n",
       "      <th>4</th>\n",
       "      <td>4</td>\n",
       "      <td>50000</td>\n",
       "      <td>2</td>\n",
       "      <td>2</td>\n",
       "      <td>1</td>\n",
       "      <td>37</td>\n",
       "      <td>0</td>\n",
       "      <td>0</td>\n",
       "      <td>0</td>\n",
       "      <td>0</td>\n",
       "      <td>...</td>\n",
       "      <td>28314</td>\n",
       "      <td>28959</td>\n",
       "      <td>29547</td>\n",
       "      <td>2000</td>\n",
       "      <td>2019</td>\n",
       "      <td>1200</td>\n",
       "      <td>1100</td>\n",
       "      <td>1069</td>\n",
       "      <td>1000</td>\n",
       "      <td>0</td>\n",
       "    </tr>\n",
       "  </tbody>\n",
       "</table>\n",
       "<p>5 rows × 25 columns</p>\n",
       "</div>"
      ],
      "text/plain": [
       "  Unnamed: 0         X1   X2         X3        X4   X5     X6     X7     X8  \\\n",
       "0         ID  LIMIT_BAL  SEX  EDUCATION  MARRIAGE  AGE  PAY_0  PAY_2  PAY_3   \n",
       "1          1      20000    2          2         1   24      2      2     -1   \n",
       "2          2     120000    2          2         2   26     -1      2      0   \n",
       "3          3      90000    2          2         2   34      0      0      0   \n",
       "4          4      50000    2          2         1   37      0      0      0   \n",
       "\n",
       "      X9  ...        X15        X16        X17       X18       X19       X20  \\\n",
       "0  PAY_4  ...  BILL_AMT4  BILL_AMT5  BILL_AMT6  PAY_AMT1  PAY_AMT2  PAY_AMT3   \n",
       "1     -1  ...          0          0          0         0       689         0   \n",
       "2      0  ...       3272       3455       3261         0      1000      1000   \n",
       "3      0  ...      14331      14948      15549      1518      1500      1000   \n",
       "4      0  ...      28314      28959      29547      2000      2019      1200   \n",
       "\n",
       "        X21       X22       X23                           Y  \n",
       "0  PAY_AMT4  PAY_AMT5  PAY_AMT6  default payment next month  \n",
       "1         0         0         0                           1  \n",
       "2      1000         0      2000                           1  \n",
       "3      1000      1000      5000                           0  \n",
       "4      1100      1069      1000                           0  \n",
       "\n",
       "[5 rows x 25 columns]"
      ]
     },
     "execution_count": 2,
     "metadata": {},
     "output_type": "execute_result"
    }
   ],
   "source": [
    "df = pd.read_excel(r\"C:\\Users\\adity\\OneDrive\\Desktop\\Capstone final\\default of credit card clients.xls\")\n",
    "df.head()"
   ]
  },
  {
   "cell_type": "code",
   "execution_count": 4,
   "id": "5794095f",
   "metadata": {},
   "outputs": [
    {
     "data": {
      "text/plain": [
       "Index(['Unnamed: 0', 'X1', 'X2', 'X3', 'X4', 'X5', 'X6', 'X7', 'X8', 'X9',\n",
       "       'X10', 'X11', 'X12', 'X13', 'X14', 'X15', 'X16', 'X17', 'X18', 'X19',\n",
       "       'X20', 'X21', 'X22', 'X23', 'Y'],\n",
       "      dtype='object')"
      ]
     },
     "execution_count": 4,
     "metadata": {},
     "output_type": "execute_result"
    }
   ],
   "source": [
    "df.columns"
   ]
  },
  {
   "cell_type": "markdown",
   "id": "4b13b19f",
   "metadata": {},
   "source": [
    "renaming some of the names of the columns for better understanding"
   ]
  },
  {
   "cell_type": "code",
   "execution_count": 6,
   "id": "31f63a35",
   "metadata": {},
   "outputs": [],
   "source": [
    "#Rename Column  names\n",
    "df.rename(columns={'X1': 'LIMIT_BAL', 'Unnamed: 0': 'ID', 'X2' : 'SEX', 'X3' : 'EDUCATION', 'X4' : 'MARRIAGE', 'X5' : 'AGE'}, inplace=True)"
   ]
  },
  {
   "cell_type": "code",
   "execution_count": 7,
   "id": "1949fe74",
   "metadata": {},
   "outputs": [],
   "source": [
    "column_names = {\n",
    "    'history_names': {\n",
    "        'X6':'Sep_History','X11':'Apr_History','X7':'Aug_History',\n",
    "        'X8':'Jul_History','X9':'Jun_History','X10':'May_History'\n",
    "    },\n",
    "    'balance_names': {\n",
    "        'X12':'Sep_Balance','X13':'Aug_Balance','X14':'Jul_Balance',\n",
    "        'X15':'Jun_Balance','X16':'May_Balance','X17':'Apr_Balance'\n",
    "    },\n",
    "    'payment_names': {\n",
    "        'X18':'Sep_Pmt','X19':'Aug_Pmt','X20':'Jul_Pmt',\n",
    "        'X21':'Jun_Pmt','X22':'May_Pmt','X23':'Apr_Pmt'\n",
    "    }\n",
    "}\n",
    "\n",
    "for column_name in column_names:\n",
    "    df.rename(columns=column_names[column_name], inplace=True)\n"
   ]
  },
  {
   "cell_type": "markdown",
   "id": "6224d250",
   "metadata": {},
   "source": [
    "renaming columns in the DataFrame df based on the mappings provided in the column_names dictionary."
   ]
  },
  {
   "cell_type": "code",
   "execution_count": 8,
   "id": "4eef63cd",
   "metadata": {},
   "outputs": [],
   "source": [
    "df.rename(columns={'Y': 'DEF_PAY'}, inplace=True)"
   ]
  },
  {
   "cell_type": "code",
   "execution_count": 9,
   "id": "6c578449",
   "metadata": {},
   "outputs": [],
   "source": [
    "df = df.drop([0])"
   ]
  },
  {
   "cell_type": "code",
   "execution_count": 10,
   "id": "ad709dca",
   "metadata": {},
   "outputs": [
    {
     "data": {
      "text/plain": [
       "Index(['ID', 'LIMIT_BAL', 'SEX', 'EDUCATION', 'MARRIAGE', 'AGE', 'Sep_History',\n",
       "       'Aug_History', 'Jul_History', 'Jun_History', 'May_History',\n",
       "       'Apr_History', 'Sep_Balance', 'Aug_Balance', 'Jul_Balance',\n",
       "       'Jun_Balance', 'May_Balance', 'Apr_Balance', 'Sep_Pmt', 'Aug_Pmt',\n",
       "       'Jul_Pmt', 'Jun_Pmt', 'May_Pmt', 'Apr_Pmt', 'DEF_PAY'],\n",
       "      dtype='object')"
      ]
     },
     "execution_count": 10,
     "metadata": {},
     "output_type": "execute_result"
    }
   ],
   "source": [
    "df.columns"
   ]
  },
  {
   "cell_type": "code",
   "execution_count": 11,
   "id": "27c5beff",
   "metadata": {},
   "outputs": [
    {
     "data": {
      "text/html": [
       "<div>\n",
       "<style scoped>\n",
       "    .dataframe tbody tr th:only-of-type {\n",
       "        vertical-align: middle;\n",
       "    }\n",
       "\n",
       "    .dataframe tbody tr th {\n",
       "        vertical-align: top;\n",
       "    }\n",
       "\n",
       "    .dataframe thead th {\n",
       "        text-align: right;\n",
       "    }\n",
       "</style>\n",
       "<table border=\"1\" class=\"dataframe\">\n",
       "  <thead>\n",
       "    <tr style=\"text-align: right;\">\n",
       "      <th></th>\n",
       "      <th>ID</th>\n",
       "      <th>LIMIT_BAL</th>\n",
       "      <th>SEX</th>\n",
       "      <th>EDUCATION</th>\n",
       "      <th>MARRIAGE</th>\n",
       "      <th>AGE</th>\n",
       "      <th>Sep_History</th>\n",
       "      <th>Aug_History</th>\n",
       "      <th>Jul_History</th>\n",
       "      <th>Jun_History</th>\n",
       "      <th>...</th>\n",
       "      <th>Jun_Balance</th>\n",
       "      <th>May_Balance</th>\n",
       "      <th>Apr_Balance</th>\n",
       "      <th>Sep_Pmt</th>\n",
       "      <th>Aug_Pmt</th>\n",
       "      <th>Jul_Pmt</th>\n",
       "      <th>Jun_Pmt</th>\n",
       "      <th>May_Pmt</th>\n",
       "      <th>Apr_Pmt</th>\n",
       "      <th>DEF_PAY</th>\n",
       "    </tr>\n",
       "  </thead>\n",
       "  <tbody>\n",
       "    <tr>\n",
       "      <th>1</th>\n",
       "      <td>1</td>\n",
       "      <td>20000</td>\n",
       "      <td>2</td>\n",
       "      <td>2</td>\n",
       "      <td>1</td>\n",
       "      <td>24</td>\n",
       "      <td>2</td>\n",
       "      <td>2</td>\n",
       "      <td>-1</td>\n",
       "      <td>-1</td>\n",
       "      <td>...</td>\n",
       "      <td>0</td>\n",
       "      <td>0</td>\n",
       "      <td>0</td>\n",
       "      <td>0</td>\n",
       "      <td>689</td>\n",
       "      <td>0</td>\n",
       "      <td>0</td>\n",
       "      <td>0</td>\n",
       "      <td>0</td>\n",
       "      <td>1</td>\n",
       "    </tr>\n",
       "    <tr>\n",
       "      <th>2</th>\n",
       "      <td>2</td>\n",
       "      <td>120000</td>\n",
       "      <td>2</td>\n",
       "      <td>2</td>\n",
       "      <td>2</td>\n",
       "      <td>26</td>\n",
       "      <td>-1</td>\n",
       "      <td>2</td>\n",
       "      <td>0</td>\n",
       "      <td>0</td>\n",
       "      <td>...</td>\n",
       "      <td>3272</td>\n",
       "      <td>3455</td>\n",
       "      <td>3261</td>\n",
       "      <td>0</td>\n",
       "      <td>1000</td>\n",
       "      <td>1000</td>\n",
       "      <td>1000</td>\n",
       "      <td>0</td>\n",
       "      <td>2000</td>\n",
       "      <td>1</td>\n",
       "    </tr>\n",
       "    <tr>\n",
       "      <th>3</th>\n",
       "      <td>3</td>\n",
       "      <td>90000</td>\n",
       "      <td>2</td>\n",
       "      <td>2</td>\n",
       "      <td>2</td>\n",
       "      <td>34</td>\n",
       "      <td>0</td>\n",
       "      <td>0</td>\n",
       "      <td>0</td>\n",
       "      <td>0</td>\n",
       "      <td>...</td>\n",
       "      <td>14331</td>\n",
       "      <td>14948</td>\n",
       "      <td>15549</td>\n",
       "      <td>1518</td>\n",
       "      <td>1500</td>\n",
       "      <td>1000</td>\n",
       "      <td>1000</td>\n",
       "      <td>1000</td>\n",
       "      <td>5000</td>\n",
       "      <td>0</td>\n",
       "    </tr>\n",
       "    <tr>\n",
       "      <th>4</th>\n",
       "      <td>4</td>\n",
       "      <td>50000</td>\n",
       "      <td>2</td>\n",
       "      <td>2</td>\n",
       "      <td>1</td>\n",
       "      <td>37</td>\n",
       "      <td>0</td>\n",
       "      <td>0</td>\n",
       "      <td>0</td>\n",
       "      <td>0</td>\n",
       "      <td>...</td>\n",
       "      <td>28314</td>\n",
       "      <td>28959</td>\n",
       "      <td>29547</td>\n",
       "      <td>2000</td>\n",
       "      <td>2019</td>\n",
       "      <td>1200</td>\n",
       "      <td>1100</td>\n",
       "      <td>1069</td>\n",
       "      <td>1000</td>\n",
       "      <td>0</td>\n",
       "    </tr>\n",
       "    <tr>\n",
       "      <th>5</th>\n",
       "      <td>5</td>\n",
       "      <td>50000</td>\n",
       "      <td>1</td>\n",
       "      <td>2</td>\n",
       "      <td>1</td>\n",
       "      <td>57</td>\n",
       "      <td>-1</td>\n",
       "      <td>0</td>\n",
       "      <td>-1</td>\n",
       "      <td>0</td>\n",
       "      <td>...</td>\n",
       "      <td>20940</td>\n",
       "      <td>19146</td>\n",
       "      <td>19131</td>\n",
       "      <td>2000</td>\n",
       "      <td>36681</td>\n",
       "      <td>10000</td>\n",
       "      <td>9000</td>\n",
       "      <td>689</td>\n",
       "      <td>679</td>\n",
       "      <td>0</td>\n",
       "    </tr>\n",
       "  </tbody>\n",
       "</table>\n",
       "<p>5 rows × 25 columns</p>\n",
       "</div>"
      ],
      "text/plain": [
       "  ID LIMIT_BAL SEX EDUCATION MARRIAGE AGE Sep_History Aug_History Jul_History  \\\n",
       "1  1     20000   2         2        1  24           2           2          -1   \n",
       "2  2    120000   2         2        2  26          -1           2           0   \n",
       "3  3     90000   2         2        2  34           0           0           0   \n",
       "4  4     50000   2         2        1  37           0           0           0   \n",
       "5  5     50000   1         2        1  57          -1           0          -1   \n",
       "\n",
       "  Jun_History  ... Jun_Balance May_Balance Apr_Balance Sep_Pmt Aug_Pmt  \\\n",
       "1          -1  ...           0           0           0       0     689   \n",
       "2           0  ...        3272        3455        3261       0    1000   \n",
       "3           0  ...       14331       14948       15549    1518    1500   \n",
       "4           0  ...       28314       28959       29547    2000    2019   \n",
       "5           0  ...       20940       19146       19131    2000   36681   \n",
       "\n",
       "  Jul_Pmt Jun_Pmt May_Pmt Apr_Pmt DEF_PAY  \n",
       "1       0       0       0       0       1  \n",
       "2    1000    1000       0    2000       1  \n",
       "3    1000    1000    1000    5000       0  \n",
       "4    1200    1100    1069    1000       0  \n",
       "5   10000    9000     689     679       0  \n",
       "\n",
       "[5 rows x 25 columns]"
      ]
     },
     "execution_count": 11,
     "metadata": {},
     "output_type": "execute_result"
    }
   ],
   "source": [
    "df.head()"
   ]
  },
  {
   "cell_type": "code",
   "execution_count": 12,
   "id": "08256042",
   "metadata": {},
   "outputs": [
    {
     "data": {
      "text/plain": [
       "(30000, 25)"
      ]
     },
     "execution_count": 12,
     "metadata": {},
     "output_type": "execute_result"
    }
   ],
   "source": [
    "df.shape"
   ]
  },
  {
   "cell_type": "code",
   "execution_count": 13,
   "id": "4250593b",
   "metadata": {},
   "outputs": [
    {
     "data": {
      "text/plain": [
       "ID             0\n",
       "LIMIT_BAL      0\n",
       "SEX            0\n",
       "EDUCATION      0\n",
       "MARRIAGE       0\n",
       "AGE            0\n",
       "Sep_History    0\n",
       "Aug_History    0\n",
       "Jul_History    0\n",
       "Jun_History    0\n",
       "May_History    0\n",
       "Apr_History    0\n",
       "Sep_Balance    0\n",
       "Aug_Balance    0\n",
       "Jul_Balance    0\n",
       "Jun_Balance    0\n",
       "May_Balance    0\n",
       "Apr_Balance    0\n",
       "Sep_Pmt        0\n",
       "Aug_Pmt        0\n",
       "Jul_Pmt        0\n",
       "Jun_Pmt        0\n",
       "May_Pmt        0\n",
       "Apr_Pmt        0\n",
       "DEF_PAY        0\n",
       "dtype: int64"
      ]
     },
     "execution_count": 13,
     "metadata": {},
     "output_type": "execute_result"
    }
   ],
   "source": [
    "df.isnull().sum() "
   ]
  },
  {
   "cell_type": "code",
   "execution_count": 14,
   "id": "cdb65f30",
   "metadata": {},
   "outputs": [
    {
     "data": {
      "text/plain": [
       "ID             object\n",
       "LIMIT_BAL      object\n",
       "SEX            object\n",
       "EDUCATION      object\n",
       "MARRIAGE       object\n",
       "AGE            object\n",
       "Sep_History    object\n",
       "Aug_History    object\n",
       "Jul_History    object\n",
       "Jun_History    object\n",
       "May_History    object\n",
       "Apr_History    object\n",
       "Sep_Balance    object\n",
       "Aug_Balance    object\n",
       "Jul_Balance    object\n",
       "Jun_Balance    object\n",
       "May_Balance    object\n",
       "Apr_Balance    object\n",
       "Sep_Pmt        object\n",
       "Aug_Pmt        object\n",
       "Jul_Pmt        object\n",
       "Jun_Pmt        object\n",
       "May_Pmt        object\n",
       "Apr_Pmt        object\n",
       "DEF_PAY        object\n",
       "dtype: object"
      ]
     },
     "execution_count": 14,
     "metadata": {},
     "output_type": "execute_result"
    }
   ],
   "source": [
    "df.dtypes "
   ]
  },
  {
   "cell_type": "code",
   "execution_count": 15,
   "id": "5c98ec93",
   "metadata": {},
   "outputs": [
    {
     "data": {
      "text/plain": [
       "ID             int32\n",
       "LIMIT_BAL      int32\n",
       "SEX            int32\n",
       "EDUCATION      int32\n",
       "MARRIAGE       int32\n",
       "AGE            int32\n",
       "Sep_History    int32\n",
       "Aug_History    int32\n",
       "Jul_History    int32\n",
       "Jun_History    int32\n",
       "May_History    int32\n",
       "Apr_History    int32\n",
       "Sep_Balance    int32\n",
       "Aug_Balance    int32\n",
       "Jul_Balance    int32\n",
       "Jun_Balance    int32\n",
       "May_Balance    int32\n",
       "Apr_Balance    int32\n",
       "Sep_Pmt        int32\n",
       "Aug_Pmt        int32\n",
       "Jul_Pmt        int32\n",
       "Jun_Pmt        int32\n",
       "May_Pmt        int32\n",
       "Apr_Pmt        int32\n",
       "DEF_PAY        int32\n",
       "dtype: object"
      ]
     },
     "execution_count": 15,
     "metadata": {},
     "output_type": "execute_result"
    }
   ],
   "source": [
    "col = df.columns\n",
    "for i in col:\n",
    "  df[i] = df[i].astype(int)\n",
    "\n",
    "df.dtypes"
   ]
  },
  {
   "cell_type": "code",
   "execution_count": 16,
   "id": "e0b0ad0b",
   "metadata": {},
   "outputs": [
    {
     "name": "stdout",
     "output_type": "stream",
     "text": [
      "ID 1 30000\n",
      "LIMIT_BAL 10000 1000000\n",
      "SEX 1 2\n",
      "EDUCATION 0 6\n",
      "MARRIAGE 0 3\n",
      "AGE 21 79\n",
      "Sep_History -2 8\n",
      "Aug_History -2 8\n",
      "Jul_History -2 8\n",
      "Jun_History -2 8\n",
      "May_History -2 8\n",
      "Apr_History -2 8\n",
      "Sep_Balance -165580 964511\n",
      "Aug_Balance -69777 983931\n",
      "Jul_Balance -157264 1664089\n",
      "Jun_Balance -170000 891586\n",
      "May_Balance -81334 927171\n",
      "Apr_Balance -339603 961664\n",
      "Sep_Pmt 0 873552\n",
      "Aug_Pmt 0 1684259\n",
      "Jul_Pmt 0 896040\n",
      "Jun_Pmt 0 621000\n",
      "May_Pmt 0 426529\n",
      "Apr_Pmt 0 528666\n",
      "DEF_PAY 0 1\n"
     ]
    }
   ],
   "source": [
    "for i in col:\n",
    "  print (i,df[i].min(), df[i].max())"
   ]
  },
  {
   "cell_type": "markdown",
   "id": "88ccd142",
   "metadata": {},
   "source": [
    " extracting the unique values from the specified column, and sorting these values. "
   ]
  },
  {
   "cell_type": "code",
   "execution_count": 19,
   "id": "b149031f",
   "metadata": {},
   "outputs": [
    {
     "name": "stdout",
     "output_type": "stream",
     "text": [
      "SEX[1, 2]\n",
      "EDUCATION[0, 1, 2, 3, 4, 5, 6]\n",
      "MARRIAGE[0, 1, 2, 3]\n",
      "Sep_History[-2, -1, 0, 1, 2, 3, 4, 5, 6, 7, 8]\n",
      "DEF_PAY[0, 1]\n"
     ]
    }
   ],
   "source": [
    "print('SEX' + str(sorted(df['SEX'].unique())))\n",
    "print('EDUCATION' + str(sorted(df['EDUCATION'].unique())))\n",
    "print('MARRIAGE' + str(sorted(df['MARRIAGE'].unique())))\n",
    "print('Sep_History' + str(sorted(df['Sep_History'].unique())))\n",
    "print('DEF_PAY' + str(sorted(df['DEF_PAY'].unique())))"
   ]
  },
  {
   "cell_type": "markdown",
   "id": "b6e8f5a0",
   "metadata": {},
   "source": [
    "data preprocessing steps to categorize the certain values in DataFrame df."
   ]
  },
  {
   "cell_type": "code",
   "execution_count": 22,
   "id": "f1484217",
   "metadata": {},
   "outputs": [],
   "source": [
    "# Some categories are undocumented\n",
    "\n",
    "# The 0, 5 and 6 in EDUCATION can be categorized as 'Other' (4)\n",
    "fill = (df['EDUCATION']==0) | (df['EDUCATION']==5) | (df['EDUCATION']==6)\n",
    "df.loc[fill, 'EDUCATION']=4\n",
    "\n",
    "# The 0 in MARRIAGE can be categorized as 'Other' (3)\n",
    "df.loc[df['MARRIAGE']==0, 'MARRIAGE']=3\n",
    "\n",
    "# The -2, -1 and 0 in PAY_n can be categorized as 'duly' (0)\n",
    "fill = (df['Sep_History']==-2) | (df['Sep_History']==-1) | (df['Sep_History']==0)\n",
    "df.loc[fill, 'Sep_History']=0\n",
    "\n",
    "fill = (df['Aug_History']==-2) | (df['Aug_History']==-1) | (df['Aug_History']==0)\n",
    "df.loc[fill, 'Aug_History']=0\n",
    "\n",
    "fill = (df['Jul_History']==-2) | (df['Jul_History']==-1) | (df['Jul_History']==0)\n",
    "df.loc[fill, 'Jul_History']=0\n",
    "\n",
    "fill = (df['Jun_History']==-2) | (df['Jun_History']==-1) | (df['Jun_History']==0)\n",
    "df.loc[fill, 'Jun_History']=0\n",
    "\n",
    "fill = (df['May_History']==-2) | (df['May_History']==-1) | (df['May_History']==0)\n",
    "df.loc[fill, 'May_History']=0\n",
    "\n",
    "fill = (df['Apr_History']==-2) | (df['Apr_History']==-1) | (df['Apr_History']==0)\n",
    "df.loc[fill, 'Apr_History']=0"
   ]
  },
  {
   "cell_type": "code",
   "execution_count": 23,
   "id": "86c4ffa9",
   "metadata": {},
   "outputs": [
    {
     "data": {
      "text/html": [
       "<div>\n",
       "<style scoped>\n",
       "    .dataframe tbody tr th:only-of-type {\n",
       "        vertical-align: middle;\n",
       "    }\n",
       "\n",
       "    .dataframe tbody tr th {\n",
       "        vertical-align: top;\n",
       "    }\n",
       "\n",
       "    .dataframe thead th {\n",
       "        text-align: right;\n",
       "    }\n",
       "</style>\n",
       "<table border=\"1\" class=\"dataframe\">\n",
       "  <thead>\n",
       "    <tr style=\"text-align: right;\">\n",
       "      <th></th>\n",
       "      <th>ID</th>\n",
       "      <th>LIMIT_BAL</th>\n",
       "      <th>SEX</th>\n",
       "      <th>EDUCATION</th>\n",
       "      <th>MARRIAGE</th>\n",
       "      <th>AGE</th>\n",
       "      <th>Sep_History</th>\n",
       "      <th>Aug_History</th>\n",
       "      <th>Jul_History</th>\n",
       "      <th>Jun_History</th>\n",
       "      <th>...</th>\n",
       "      <th>Jun_Balance</th>\n",
       "      <th>May_Balance</th>\n",
       "      <th>Apr_Balance</th>\n",
       "      <th>Sep_Pmt</th>\n",
       "      <th>Aug_Pmt</th>\n",
       "      <th>Jul_Pmt</th>\n",
       "      <th>Jun_Pmt</th>\n",
       "      <th>May_Pmt</th>\n",
       "      <th>Apr_Pmt</th>\n",
       "      <th>DEF_PAY</th>\n",
       "    </tr>\n",
       "  </thead>\n",
       "  <tbody>\n",
       "    <tr>\n",
       "      <th>1</th>\n",
       "      <td>1</td>\n",
       "      <td>20000</td>\n",
       "      <td>2</td>\n",
       "      <td>2</td>\n",
       "      <td>1</td>\n",
       "      <td>24</td>\n",
       "      <td>2</td>\n",
       "      <td>2</td>\n",
       "      <td>0</td>\n",
       "      <td>0</td>\n",
       "      <td>...</td>\n",
       "      <td>0</td>\n",
       "      <td>0</td>\n",
       "      <td>0</td>\n",
       "      <td>0</td>\n",
       "      <td>689</td>\n",
       "      <td>0</td>\n",
       "      <td>0</td>\n",
       "      <td>0</td>\n",
       "      <td>0</td>\n",
       "      <td>1</td>\n",
       "    </tr>\n",
       "    <tr>\n",
       "      <th>2</th>\n",
       "      <td>2</td>\n",
       "      <td>120000</td>\n",
       "      <td>2</td>\n",
       "      <td>2</td>\n",
       "      <td>2</td>\n",
       "      <td>26</td>\n",
       "      <td>0</td>\n",
       "      <td>2</td>\n",
       "      <td>0</td>\n",
       "      <td>0</td>\n",
       "      <td>...</td>\n",
       "      <td>3272</td>\n",
       "      <td>3455</td>\n",
       "      <td>3261</td>\n",
       "      <td>0</td>\n",
       "      <td>1000</td>\n",
       "      <td>1000</td>\n",
       "      <td>1000</td>\n",
       "      <td>0</td>\n",
       "      <td>2000</td>\n",
       "      <td>1</td>\n",
       "    </tr>\n",
       "    <tr>\n",
       "      <th>3</th>\n",
       "      <td>3</td>\n",
       "      <td>90000</td>\n",
       "      <td>2</td>\n",
       "      <td>2</td>\n",
       "      <td>2</td>\n",
       "      <td>34</td>\n",
       "      <td>0</td>\n",
       "      <td>0</td>\n",
       "      <td>0</td>\n",
       "      <td>0</td>\n",
       "      <td>...</td>\n",
       "      <td>14331</td>\n",
       "      <td>14948</td>\n",
       "      <td>15549</td>\n",
       "      <td>1518</td>\n",
       "      <td>1500</td>\n",
       "      <td>1000</td>\n",
       "      <td>1000</td>\n",
       "      <td>1000</td>\n",
       "      <td>5000</td>\n",
       "      <td>0</td>\n",
       "    </tr>\n",
       "    <tr>\n",
       "      <th>4</th>\n",
       "      <td>4</td>\n",
       "      <td>50000</td>\n",
       "      <td>2</td>\n",
       "      <td>2</td>\n",
       "      <td>1</td>\n",
       "      <td>37</td>\n",
       "      <td>0</td>\n",
       "      <td>0</td>\n",
       "      <td>0</td>\n",
       "      <td>0</td>\n",
       "      <td>...</td>\n",
       "      <td>28314</td>\n",
       "      <td>28959</td>\n",
       "      <td>29547</td>\n",
       "      <td>2000</td>\n",
       "      <td>2019</td>\n",
       "      <td>1200</td>\n",
       "      <td>1100</td>\n",
       "      <td>1069</td>\n",
       "      <td>1000</td>\n",
       "      <td>0</td>\n",
       "    </tr>\n",
       "    <tr>\n",
       "      <th>5</th>\n",
       "      <td>5</td>\n",
       "      <td>50000</td>\n",
       "      <td>1</td>\n",
       "      <td>2</td>\n",
       "      <td>1</td>\n",
       "      <td>57</td>\n",
       "      <td>0</td>\n",
       "      <td>0</td>\n",
       "      <td>0</td>\n",
       "      <td>0</td>\n",
       "      <td>...</td>\n",
       "      <td>20940</td>\n",
       "      <td>19146</td>\n",
       "      <td>19131</td>\n",
       "      <td>2000</td>\n",
       "      <td>36681</td>\n",
       "      <td>10000</td>\n",
       "      <td>9000</td>\n",
       "      <td>689</td>\n",
       "      <td>679</td>\n",
       "      <td>0</td>\n",
       "    </tr>\n",
       "  </tbody>\n",
       "</table>\n",
       "<p>5 rows × 25 columns</p>\n",
       "</div>"
      ],
      "text/plain": [
       "   ID  LIMIT_BAL  SEX  EDUCATION  MARRIAGE  AGE  Sep_History  Aug_History  \\\n",
       "1   1      20000    2          2         1   24            2            2   \n",
       "2   2     120000    2          2         2   26            0            2   \n",
       "3   3      90000    2          2         2   34            0            0   \n",
       "4   4      50000    2          2         1   37            0            0   \n",
       "5   5      50000    1          2         1   57            0            0   \n",
       "\n",
       "   Jul_History  Jun_History  ...  Jun_Balance  May_Balance  Apr_Balance  \\\n",
       "1            0            0  ...            0            0            0   \n",
       "2            0            0  ...         3272         3455         3261   \n",
       "3            0            0  ...        14331        14948        15549   \n",
       "4            0            0  ...        28314        28959        29547   \n",
       "5            0            0  ...        20940        19146        19131   \n",
       "\n",
       "   Sep_Pmt  Aug_Pmt  Jul_Pmt  Jun_Pmt  May_Pmt  Apr_Pmt  DEF_PAY  \n",
       "1        0      689        0        0        0        0        1  \n",
       "2        0     1000     1000     1000        0     2000        1  \n",
       "3     1518     1500     1000     1000     1000     5000        0  \n",
       "4     2000     2019     1200     1100     1069     1000        0  \n",
       "5     2000    36681    10000     9000      689      679        0  \n",
       "\n",
       "[5 rows x 25 columns]"
      ]
     },
     "execution_count": 23,
     "metadata": {},
     "output_type": "execute_result"
    }
   ],
   "source": [
    "df.head()"
   ]
  },
  {
   "cell_type": "code",
   "execution_count": null,
   "id": "1c1414c6",
   "metadata": {},
   "outputs": [],
   "source": []
  },
  {
   "cell_type": "code",
   "execution_count": null,
   "id": "2ae6d8c8",
   "metadata": {},
   "outputs": [],
   "source": []
  },
  {
   "cell_type": "markdown",
   "id": "d42ffcb5",
   "metadata": {},
   "source": [
    "# Exploratory Data Analysis "
   ]
  },
  {
   "cell_type": "code",
   "execution_count": 25,
   "id": "d8dcfce0",
   "metadata": {},
   "outputs": [],
   "source": [
    "import seaborn as sns\n",
    "import matplotlib.pyplot as plt"
   ]
  },
  {
   "cell_type": "code",
   "execution_count": 26,
   "id": "a4f2b333",
   "metadata": {},
   "outputs": [
    {
     "data": {
      "image/png": "[encoded data removed]",
      "text/plain": [
       "<Figure size 792x360 with 1 Axes>"
      ]
     },
     "metadata": {
      "needs_background": "light"
     },
     "output_type": "display_data"
    }
   ],
   "source": [
    "plt.figure(figsize=(11,5))\n",
    "sns.set_style('white')\n",
    "ax = sns.countplot(data=df, x='DEF_PAY', palette='Blues')\n",
    "\n",
    "ax.set_xlabel('Default payment', fontsize=12)\n",
    "for p in ax.patches:\n",
    "    ax.annotate(f'\\n{p.get_height()}', (p.get_x()+0.4, p.get_height()), ha='center', va='top', color='black', size=12)\n",
    "\n",
    "plt.ylim(0,25000)\n",
    "plt.annotate('More than 6,636 out of 30,000 of \\nclients will default next month.', xy=(0.595, 15000), fontsize=13)\n",
    "plt.xticks([0,1],['Not default', 'Default'], fontsize=13); plt.ylabel('Number of clients', fontsize=12)\n",
    "plt.show()"
   ]
  },
  {
   "cell_type": "code",
   "execution_count": 31,
   "id": "19708d93",
   "metadata": {},
   "outputs": [
    {
     "data": {
      "image/png": "[encoded data removed]",
      "text/plain": [
       "<Figure size 360x360 with 1 Axes>"
      ]
     },
     "metadata": {},
     "output_type": "display_data"
    }
   ],
   "source": [
    "# Calculate the value counts for 'DEF_PAY' column\n",
    "value_counts = df['DEF_PAY'].value_counts()\n",
    "\n",
    "# Define the labels and colors for the pie chart\n",
    "labels = ['Not default', 'Default']\n",
    "colors = ['#B3CEDE', '#4884AF']\n",
    "\n",
    "# Define the explode parameter (to emphasize a slice)\n",
    "explode = (0, 0.1)\n",
    "\n",
    "# Create the pie chart\n",
    "plt.figure(figsize=(5, 5))\n",
    "plt.pie(value_counts, labels=labels, autopct='%1.1f%%', colors=colors, explode=explode, textprops={\"fontsize\": 12})\n",
    "plt.title('Distribution of Default vs. Not Default')\n",
    "plt.show()"
   ]
  },
  {
   "cell_type": "markdown",
   "id": "25d71733",
   "metadata": {},
   "source": [
    "The chart can help identify the relative size of the \"Default\" category, which is crucial for risk management and designing appropriate lending policies."
   ]
  },
  {
   "cell_type": "code",
   "execution_count": 40,
   "id": "78c44cfe",
   "metadata": {},
   "outputs": [
    {
     "data": {
      "image/png": "[encoded data removed]",
      "text/plain": [
       "<Figure size 1008x576 with 1 Axes>"
      ]
     },
     "metadata": {},
     "output_type": "display_data"
    }
   ],
   "source": [
    "plt.figure(figsize=(14, 8))\n",
    "plt.title('Credit Limit Amount - Probability Density')\n",
    "plt.ticklabel_format(style='plain', axis='x')\n",
    "\n",
    "plt.hist(df['LIMIT_BAL'], bins=100, color=\"red\", density=True, alpha=0.6, edgecolor='black')\n",
    "plt.xlabel('Credit Limit Amount')\n",
    "plt.ylabel('Probability Density')\n",
    "\n",
    "plt.show()\n"
   ]
  },
  {
   "cell_type": "code",
   "execution_count": 51,
   "id": "eefee2bd",
   "metadata": {},
   "outputs": [
    {
     "data": {
      "image/png": "[encoded data removed]",
      "text/plain": [
       "<Figure size 648x288 with 1 Axes>"
      ]
     },
     "metadata": {},
     "output_type": "display_data"
    }
   ],
   "source": [
    "plt.figure(figsize=(9,4))\n",
    "sns.kdeplot(data=df, x='AGE', hue='DEF_PAY', multiple='stack', palette='Blues')\n",
    "\n",
    "plt.legend(loc='upper right', labels=['Default', 'Not default'])\n",
    "plt.ylabel('Density', fontsize= 12)\n",
    "plt.show()"
   ]
  },
  {
   "cell_type": "markdown",
   "id": "f74d91ce",
   "metadata": {},
   "source": [
    "In this specific visualization, the data appears to be right-skewed, with a concentration of lower credit limits and a tail extending to higher values.\n",
    "\n",
    "The majority of accounts seem to have relatively lower credit limits, while a smaller proportion has higher credit limits."
   ]
  },
  {
   "cell_type": "code",
   "execution_count": 42,
   "id": "5c4a6bfe",
   "metadata": {},
   "outputs": [
    {
     "data": {
      "image/png": "[encoded data removed]",
      "text/plain": [
       "<Figure size 1008x720 with 1 Axes>"
      ]
     },
     "metadata": {},
     "output_type": "display_data"
    }
   ],
   "source": [
    "plt.figure(figsize=(14,10))\n",
    "sns.set_context('talk', font_scale=0.8)\n",
    "\n",
    "ax = sns.countplot(data=df, x='EDUCATION', hue='DEF_PAY', palette='Blues')\n",
    "for p in ax.patches:\n",
    "    ax.annotate(f'\\n{p.get_height()}', (p.get_x()+0.2, p.get_height()+800), ha='center', va='top', color='black', size=12)\n",
    "\n",
    "plt.ylim(0,12000)\n",
    "plt.xticks([0,1,2,3], ['Grad School', 'University', 'High School', 'Others'], fontsize=12);plt.ylabel('Number of clients', fontsize = 14)\n",
    "plt.legend(labels=['Not default', 'Default'], fontsize=12)\n",
    "plt.show()"
   ]
  },
  {
   "cell_type": "markdown",
   "id": "58743b70",
   "metadata": {},
   "source": [
    "This visualization allows us to observe how default status varies across different education levels. It helps answer questions such as whether clients with higher educational backgrounds are less likely to default or whether there are variations in default rates across education categories."
   ]
  },
  {
   "cell_type": "code",
   "execution_count": 47,
   "id": "627b169a",
   "metadata": {},
   "outputs": [
    {
     "data": {
      "image/png": "[encoded data removed]",
      "text/plain": [
       "<Figure size 936x504 with 1 Axes>"
      ]
     },
     "metadata": {},
     "output_type": "display_data"
    }
   ],
   "source": [
    "plt.figure(figsize=(13,7))\n",
    "sns.set_style('white')\n",
    "\n",
    "ax = sns.barplot(x='EDUCATION', y='DEF_PAY', data=df, palette='Blues', ci=None)\n",
    "\n",
    "for p in ax.patches:\n",
    "    ax.annotate('%.2f' %(p.get_height()), (p.get_x()+0.30, p.get_height()+0.01), size=12)\n",
    "\n",
    "plt.ylabel('% of default', fontsize= 12)\n",
    "plt.ylim(0,0.5)\n",
    "plt.xticks([0,1,2,3],['Grad School', 'University', 'High School', 'Others'], fontsize = 12); plt.xlabel('EDUCATION', fontsize = 12)\n",
    "plt.show()"
   ]
  },
  {
   "cell_type": "markdown",
   "id": "5f2e49e2",
   "metadata": {},
   "source": [
    "The height of the bars indicates the percentage of clients within each education category who have faced defaults."
   ]
  },
  {
   "cell_type": "code",
   "execution_count": 48,
   "id": "c9afcd3d",
   "metadata": {},
   "outputs": [
    {
     "data": {
      "image/png": "[encoded data removed]",
      "text/plain": [
       "<Figure size 864x576 with 1 Axes>"
      ]
     },
     "metadata": {},
     "output_type": "display_data"
    }
   ],
   "source": [
    "plt.figure(figsize=(12,8))\n",
    "sns.set_style('white')\n",
    "\n",
    "ax = sns.countplot(data=df, y='MARRIAGE', hue='DEF_PAY', palette='Blues')\n",
    "\n",
    "for p in ax.patches:\n",
    "  height = p.get_height()\n",
    "  width = p.get_width()\n",
    "  ax.text(x=width+3,\n",
    "  y = p.get_y()+(height/2),\n",
    "  s = '{:.0f}'.format(width),\n",
    "  va = 'center')\n",
    "\n",
    "plt.xlim(0,15000)\n",
    "plt.ylabel('MARITAL STATUS', fontsize=13)\n",
    "plt.yticks([0,1,2],['Married','Single','Others'], fontsize=12);plt.xlabel('Number of clients', fontsize=13)\n",
    "plt.legend(labels=['Not default', 'Default'])\n",
    "plt.show()\n"
   ]
  },
  {
   "cell_type": "markdown",
   "id": "935a325d",
   "metadata": {},
   "source": [
    "This visualization allows us to observe how default status varies across different marital status categories. It helps answer questions such as whether clients with specific marital statuses are more or less likely to default or whether there are variations in default rates across marital status groups.\n",
    "\n",
    ". It helps us understand the potential correlation between marital status and credit default within the dataset."
   ]
  },
  {
   "cell_type": "code",
   "execution_count": 50,
   "id": "b416a479",
   "metadata": {},
   "outputs": [
    {
     "data": {
      "image/png": "[encoded data removed]",
      "text/plain": [
       "<Figure size 720x432 with 1 Axes>"
      ]
     },
     "metadata": {},
     "output_type": "display_data"
    }
   ],
   "source": [
    "# Average payment over time\n",
    "monthly_payments = ['Apr_Pmt', 'May_Pmt', 'Jun_Pmt',\n",
    "                    'Jul_Pmt', 'Aug_Pmt', 'Sep_Pmt']\n",
    "avg_pmt = []\n",
    "\n",
    "for month in monthly_payments:\n",
    "    avg_pmt.append(df[month].mean())\n",
    "\n",
    "plt.figure(figsize=(10,6))\n",
    "plt.plot(monthly_payments, avg_pmt)\n",
    "plt.title('Average Payment Over Time ($)')\n",
    "plt.show();"
   ]
  },
  {
   "cell_type": "markdown",
   "id": "28361c5a",
   "metadata": {},
   "source": [
    "this visualization helps us to determine whether clients tend to make larger or smaller payments during certain months.\n",
    "\n",
    "This information can be valuable for understanding client behavior, budgeting trends, and assessing financial patterns.\n",
    "\n",
    "For financial institutions, it may be useful for predicting future cash flows, assessing client creditworthiness, or optimizing payment collection strategies."
   ]
  },
  {
   "cell_type": "code",
   "execution_count": null,
   "id": "9f3e3ded",
   "metadata": {},
   "outputs": [],
   "source": []
  }
 ],
 "metadata": {
  "kernelspec": {
   "display_name": "Python 3 (ipykernel)",
   "language": "python",
   "name": "python3"
  },
  "language_info": {
   "codemirror_mode": {
    "name": "ipython",
    "version": 3
   },
   "file_extension": ".py",
   "mimetype": "text/x-python",
   "name": "python",
   "nbconvert_exporter": "python",
   "pygments_lexer": "ipython3",
   "version": "3.9.7"
  }
 },
 "nbformat": 4,
 "nbformat_minor": 5
}
